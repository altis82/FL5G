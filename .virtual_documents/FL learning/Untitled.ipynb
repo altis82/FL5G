# we naturally first need to import torch and torchvision
import argparse
import warnings
from collections import OrderedDict

from flwr.client import NumPyClient, ClientApp
import torch
import torch.nn as nn
import torch.nn.functional as F
from torch.utils.data import DataLoader, Dataset
import pandas as pd
import numpy as np
from sklearn.model_selection import train_test_split
from sklearn.preprocessing import StandardScaler, OneHotEncoder
from tqdm import tqdm
NUM_CLIENTS=2
BATCH_SIZE=32
class CustomDataset(Dataset):
    def __init__(self, dataframe):
        self.dataframe = dataframe
        self.features = dataframe.drop(columns=["targetTput"]).values
        self.labels = dataframe["targetTput"].values

    def __len__(self):
        return len(self.dataframe)

    def __getitem__(self, idx):
        return torch.tensor(self.features[idx], dtype=torch.float32), torch.tensor(self.labels[idx], dtype=torch.float32)
def load_csv_data(filepath, target_column):
    df = pd.read_csv(filepath)

    # Identify categorical columns (columns with dtype object)
    categorical_columns = df.select_dtypes(include=['object']).columns.tolist()
    if 'measTimeStampRf' in categorical_columns:
        categorical_columns.remove('measTimeStampRf')

    # One-hot encode categorical columns
    ohe = OneHotEncoder(sparse_output=False, drop='first')
    ohe_features = ohe.fit_transform(df[categorical_columns])
    ohe_feature_names = ohe.get_feature_names_out(categorical_columns)

    # Create a new DataFrame with one-hot encoded features
    ohe_df = pd.DataFrame(ohe_features, columns=ohe_feature_names)

    # Drop original categorical columns and 'measTimeStampRf', then concatenate with the one-hot encoded features
    df.drop(columns=categorical_columns + ['measTimeStampRf'], inplace=True)
    df = pd.concat([df.reset_index(drop=True), ohe_df.reset_index(drop=True)], axis=1)

    # Split dataset into train, validation, and test sets
    train_df, test_df = train_test_split(df, test_size=0.2, random_state=42)
    train_df, val_df = train_test_split(train_df, test_size=0.2, random_state=42)

    # Split train set into NUM_CLIENTS partitions
    train_partitions = np.array_split(train_df, NUM_CLIENTS)

    trainloaders = [DataLoader(CustomDataset(partition), batch_size=BATCH_SIZE, shuffle=True) for partition in train_partitions]
    testloader = DataLoader(CustomDataset(test_df), batch_size=BATCH_SIZE, shuffle=False)

    return trainloaders, testloader, train_df.shape[1] - 1  # Subtract 1 to exclude the target column from input dimensions


def show_data_from_loader(loader, num_batches=1):
    for i, (inputs, targets) in enumerate(loader):
        if i >= num_batches:
            break
        print(f"Batch {i + 1}")
        print("Inputs:")
        print(inputs)
        print("Targets:")
        print(targets)

# Example usage:
trainloaders, testloader, input_dim = load_csv_data('src_ue.csv','targetTput')
#Show dimension of trainloaders
print(f"Dimension: {len(trainloaders)}")

# Show data from the first train loader
print("\nShowing data from the first train loader:")
show_data_from_loader(trainloaders[0])






DEVICE = torch.device("cpu")  # Try "cuda" to train on GPU

class Net(nn.Module):
    def __init__(self, input_dim):
        super(Net, self).__init__()
        self.fc1 = nn.Linear(input_dim, 128)
        self.fc2 = nn.Linear(128, 64)
        self.fc3 = nn.Linear(64, 1)

    def forward(self, x):
        x = F.relu(self.fc1(x))
        x = F.relu(self.fc2(x))
        return self.fc3(x)

input_size = next(iter(trainloaders[0]))[0].shape[1]

# Initialize the network
net = Net(input_size).to(DEVICE)

num_parameters = sum(value.numel() for value in net.state_dict().values())
print(f"{num_parameters = }")




def train(net, trainloader, epochs):
    criterion = torch.nn.MSELoss()
    optimizer = torch.optim.SGD(net.parameters(), lr=0.001, momentum=0.9)
    for _ in range(epochs):
        for inputs, targets in tqdm(trainloader, "Training"):
            optimizer.zero_grad()
            outputs = net(inputs.to(DEVICE))
            loss = criterion(outputs, targets.to(DEVICE).view(-1, 1))
            loss.backward()
            optimizer.step()

def test(net, testloader):
    """Validate the network on the entire test set."""
    criterion = torch.nn.CrossEntropyLoss()
    correct, loss = 0, 0.0
    net.eval()
    with torch.no_grad():
        for images, labels in testloader:
            outputs = net(images)
            loss += criterion(outputs, labels).item()
            _, predicted = torch.max(outputs.data, 1)
            correct += (predicted == labels).sum().item()
    accuracy = correct / len(testloader.dataset)
    return loss, accuracy
